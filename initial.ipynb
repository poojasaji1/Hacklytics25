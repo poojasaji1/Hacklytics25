{
 "cells": [
  {
   "cell_type": "code",
   "execution_count": 53,
   "metadata": {
    "vscode": {
     "languageId": "powershell"
    }
   },
   "outputs": [
    {
     "name": "stdout",
     "output_type": "stream",
     "text": [
      "Requirement already satisfied: google-api-core==2.24.1 in ./.conda/lib/python3.8/site-packages (from -r req.txt (line 1)) (2.24.1)\n",
      "Requirement already satisfied: google-auth==2.38.0 in ./.conda/lib/python3.8/site-packages (from -r req.txt (line 2)) (2.38.0)\n",
      "Requirement already satisfied: requests==2.32.3 in ./.conda/lib/python3.8/site-packages (from -r req.txt (line 3)) (2.32.3)\n",
      "Requirement already satisfied: google-cloud-vision==3.10.0 in ./.conda/lib/python3.8/site-packages (from -r req.txt (line 4)) (3.10.0)\n",
      "Requirement already satisfied: google-cloud-core==2.4.2 in ./.conda/lib/python3.8/site-packages (from -r req.txt (line 5)) (2.4.2)\n",
      "Requirement already satisfied: pillow==10.4.0 in ./.conda/lib/python3.8/site-packages (from -r req.txt (line 6)) (10.4.0)\n",
      "Requirement already satisfied: python-dotenv==1.0.1 in ./.conda/lib/python3.8/site-packages (from -r req.txt (line 7)) (1.0.1)\n",
      "Requirement already satisfied: grpcio==1.70.0 in ./.conda/lib/python3.8/site-packages (from -r req.txt (line 8)) (1.70.0)\n",
      "Requirement already satisfied: geopy==2.2.0 in ./.conda/lib/python3.8/site-packages (from -r req.txt (line 9)) (2.2.0)\n",
      "Requirement already satisfied: pyarrow==17.0.0 in ./.conda/lib/python3.8/site-packages (from -r req.txt (line 10)) (17.0.0)\n",
      "Requirement already satisfied: googleapis-common-protos<2.0.dev0,>=1.56.2 in ./.conda/lib/python3.8/site-packages (from google-api-core==2.24.1->-r req.txt (line 1)) (1.68.0)\n",
      "Requirement already satisfied: protobuf!=3.20.0,!=3.20.1,!=4.21.0,!=4.21.1,!=4.21.2,!=4.21.3,!=4.21.4,!=4.21.5,<6.0.0.dev0,>=3.19.5 in ./.conda/lib/python3.8/site-packages (from google-api-core==2.24.1->-r req.txt (line 1)) (5.29.3)\n",
      "Requirement already satisfied: proto-plus<2.0.0dev,>=1.22.3 in ./.conda/lib/python3.8/site-packages (from google-api-core==2.24.1->-r req.txt (line 1)) (1.26.0)\n",
      "Requirement already satisfied: cachetools<6.0,>=2.0.0 in ./.conda/lib/python3.8/site-packages (from google-auth==2.38.0->-r req.txt (line 2)) (5.5.2)\n",
      "Requirement already satisfied: pyasn1-modules>=0.2.1 in ./.conda/lib/python3.8/site-packages (from google-auth==2.38.0->-r req.txt (line 2)) (0.4.1)\n",
      "Requirement already satisfied: rsa<5,>=3.1.4 in ./.conda/lib/python3.8/site-packages (from google-auth==2.38.0->-r req.txt (line 2)) (4.9)\n",
      "Requirement already satisfied: charset-normalizer<4,>=2 in ./.conda/lib/python3.8/site-packages (from requests==2.32.3->-r req.txt (line 3)) (3.4.1)\n",
      "Requirement already satisfied: idna<4,>=2.5 in ./.conda/lib/python3.8/site-packages (from requests==2.32.3->-r req.txt (line 3)) (3.10)\n",
      "Requirement already satisfied: urllib3<3,>=1.21.1 in ./.conda/lib/python3.8/site-packages (from requests==2.32.3->-r req.txt (line 3)) (2.2.3)\n",
      "Requirement already satisfied: certifi>=2017.4.17 in ./.conda/lib/python3.8/site-packages (from requests==2.32.3->-r req.txt (line 3)) (2025.1.31)\n",
      "Requirement already satisfied: geographiclib<2,>=1.49 in ./.conda/lib/python3.8/site-packages (from geopy==2.2.0->-r req.txt (line 9)) (1.52)\n",
      "Requirement already satisfied: numpy>=1.16.6 in ./.conda/lib/python3.8/site-packages (from pyarrow==17.0.0->-r req.txt (line 10)) (1.24.4)\n",
      "Requirement already satisfied: grpcio-status<2.0.dev0,>=1.33.2 in ./.conda/lib/python3.8/site-packages (from google-api-core[grpc]!=2.0.*,!=2.1.*,!=2.10.*,!=2.2.*,!=2.3.*,!=2.4.*,!=2.5.*,!=2.6.*,!=2.7.*,!=2.8.*,!=2.9.*,<3.0.0dev,>=1.34.1->google-cloud-vision==3.10.0->-r req.txt (line 4)) (1.70.0)\n",
      "Requirement already satisfied: pyasn1<0.7.0,>=0.4.6 in ./.conda/lib/python3.8/site-packages (from pyasn1-modules>=0.2.1->google-auth==2.38.0->-r req.txt (line 2)) (0.6.1)\n"
     ]
    }
   ],
   "source": [
    "!pip install -r req.txt"
   ]
  },
  {
   "cell_type": "code",
   "execution_count": 54,
   "metadata": {},
   "outputs": [],
   "source": [
    "from google.cloud import vision\n",
    "import os\n",
    "import requests\n",
    "from math import radians, sin, cos, sqrt, atan2, degrees\n",
    "from dotenv import load_dotenv\n",
    "from PIL import Image\n",
    "from io import BytesIO\n",
    "import math"
   ]
  },
  {
   "cell_type": "code",
   "execution_count": 55,
   "metadata": {},
   "outputs": [],
   "source": [
    "import os\n",
    "\n",
    "# Set the path to your service account key file\n",
    "\n",
    "os.environ[\"GOOGLE_APPLICATION_CREDENTIALS\"] = \"temporal-ring-451800-g4-c96565bd1d32.json\""
   ]
  },
  {
   "cell_type": "code",
   "execution_count": 56,
   "metadata": {},
   "outputs": [
    {
     "name": "stdout",
     "output_type": "stream",
     "text": [
      "Requirement already satisfied: pyarrow in ./.conda/lib/python3.8/site-packages (17.0.0)\n",
      "Requirement already satisfied: numpy>=1.16.6 in ./.conda/lib/python3.8/site-packages (from pyarrow) (1.24.4)\n",
      "Note: you may need to restart the kernel to use updated packages.\n"
     ]
    }
   ],
   "source": [
    "%pip install pyarrow\n",
    "import pyarrow.parquet as pq\n",
    "\n",
    "file_path = \"cleaned_data/traffic_data_sample_filtered.parquet\"\n",
    "table = pq.read_table(file_path)\n",
    "df = table.to_pandas()"
   ]
  },
  {
   "cell_type": "code",
   "execution_count": 57,
   "metadata": {},
   "outputs": [
    {
     "data": {
      "text/plain": [
       "True"
      ]
     },
     "execution_count": 57,
     "metadata": {},
     "output_type": "execute_result"
    }
   ],
   "source": [
    "load_dotenv()"
   ]
  },
  {
   "cell_type": "code",
   "execution_count": 58,
   "metadata": {},
   "outputs": [
    {
     "name": "stdout",
     "output_type": "stream",
     "text": [
      "API Key successfully loaded: AIzaS...\n"
     ]
    }
   ],
   "source": [
    "api_key = os.getenv(\"GOOGLE_API_KEY\")\n",
    "\n",
    "# Check if the API key is loaded\n",
    "if not api_key:\n",
    "   print(\"Error: API key is not set or is empty!\")\n",
    "else:\n",
    "   print(f\"API Key successfully loaded: {api_key[:5]}...\")  # Print first 5 characters for validation"
   ]
  },
  {
   "cell_type": "code",
   "execution_count": 59,
   "metadata": {},
   "outputs": [],
   "source": [
    "def pretty_print(func):\n",
    "    \"\"\"\n",
    "    Decorator to calculate and pretty print the visibility score as a percentage.\n",
    "    \"\"\"\n",
    "    def wrapper(*args, **kwargs):\n",
    "        visibility_score = func(*args, **kwargs)\n",
    "        visibility_percentage = visibility_score * 100\n",
    "        print(f\"Visibility Score: {visibility_percentage:.2f}%\")\n",
    "    return wrapper"
   ]
  },
  {
   "cell_type": "code",
   "execution_count": 60,
   "metadata": {},
   "outputs": [],
   "source": [
    "def geocode_address(address, api_key):\n",
    "   geocode_url = f\"https://maps.googleapis.com/maps/api/geocode/json?address={address}&key={api_key}\"\n",
    "   response = requests.get(geocode_url)\n",
    "   geocode_data = response.json()\n",
    "\n",
    "   if geocode_data['status'] == 'OK':\n",
    "       lat = geocode_data['results'][0]['geometry']['location']['lat']\n",
    "       lng = geocode_data['results'][0]['geometry']['location']['lng']\n",
    "       return lat, lng\n",
    "   else:\n",
    "       print(f\"Error geocoding address: {geocode_data['status']}\")\n",
    "       return None, None"
   ]
  },
  {
   "cell_type": "code",
   "execution_count": 61,
   "metadata": {},
   "outputs": [],
   "source": [
    "def find_nearest_road(lat, lng, api_key):\n",
    "   roads_url = f\"https://roads.googleapis.com/v1/nearestRoads?points={lat},{lng}&key={api_key}\"\n",
    "   response = requests.get(roads_url)\n",
    "   roads_data = response.json()\n",
    "\n",
    "   if 'snappedPoints' in roads_data:\n",
    "       nearest_road = roads_data['snappedPoints'][0]\n",
    "       return nearest_road['location']['latitude'], nearest_road['location']['longitude']\n",
    "   else:\n",
    "       print(\"Error finding nearest road:\", roads_data)\n",
    "       return None, None"
   ]
  },
  {
   "cell_type": "code",
   "execution_count": 62,
   "metadata": {},
   "outputs": [],
   "source": [
    "# Step 3: Calculate distance using Haversine formula\n",
    "def calculate_distance(lat1, lon1, lat2, lon2):\n",
    "   R = 6371.0  # Radius of Earth in km\n",
    "   lat1, lon1, lat2, lon2 = map(radians, [lat1, lon1, lat2, lon2])\n",
    "\n",
    "   dlon = lon2 - lon1\n",
    "   dlat = lat2 - lat1\n",
    "\n",
    "   a = sin(dlat / 2)**2 + cos(lat1) * cos(lat2) * sin(dlon / 2)**2\n",
    "   c = 2 * atan2(sqrt(a), sqrt(1 - a))\n",
    "   distance = R * c  # Distance in km\n",
    "   return distance"
   ]
  },
  {
   "cell_type": "code",
   "execution_count": 63,
   "metadata": {},
   "outputs": [],
   "source": [
    "import requests\n",
    "import pandas as pd\n",
    "from geopy.distance import geodesic\n",
    "\n",
    "def find_closest_osm_id(missing_osm_id, df):\n",
    "    df[\"osm_id\"] = df[\"osm_id\"].astype(int)  # Ensure numerical comparison\n",
    "    closest_osm_id = df.iloc[(df[\"osm_id\"] - missing_osm_id).abs().argsort()[0]][\"osm_id\"]\n",
    "    return closest_osm_id\n",
    "\n",
    "def find_nearest_road_to_osm_in_db(lat, lng, df):\n",
    "    overpass_url = \"http://overpass-api.de/api/interpreter\"\n",
    "    overpass_query = f\"\"\"\n",
    "    [out:json];\n",
    "    way\n",
    "    (around:100,{lat},{lng})\n",
    "    [\"highway\"];\n",
    "    out center;\n",
    "    \"\"\"\n",
    "    response = requests.get(overpass_url, params={\"data\": overpass_query})\n",
    "\n",
    "    if response.status_code != 200:\n",
    "        print(f\"Error: Received status code {response.status_code}\")\n",
    "        return None\n",
    "\n",
    "    try:\n",
    "        data = response.json()\n",
    "    except requests.JSONDecodeError as e:\n",
    "        print(f\"Error: Failed to parse JSON response - {e}\")\n",
    "        return None\n",
    "\n",
    "    valid_osm_ids = set(df[\"osm_id\"].astype(int))  # Convert to integers\n",
    "\n",
    "    nearest_road = None\n",
    "    min_distance = float(\"inf\")\n",
    "    closest_missing_osm = None\n",
    "\n",
    "    for way in data.get(\"elements\", []):\n",
    "        osm_id = int(way[\"id\"])  # Convert to integer for comparison\n",
    "        if osm_id in valid_osm_ids:\n",
    "            if \"center\" in way:\n",
    "                way_lat = way[\"center\"][\"lat\"]\n",
    "                way_lon = way[\"center\"][\"lon\"]\n",
    "                distance = geodesic((lat, lng), (way_lat, way_lon)).meters\n",
    "\n",
    "                if distance < min_distance:\n",
    "                    min_distance = distance\n",
    "                    nearest_road = (osm_id, way[\"tags\"].get(\"name\", \"Unknown\"), way[\"tags\"].get(\"highway\", \"Unknown\"))\n",
    "        else:\n",
    "            closest_missing_osm = osm_id  # Keep track of the first missing OSM ID\n",
    "\n",
    "    if nearest_road:\n",
    "        return nearest_road\n",
    "    elif closest_missing_osm is not None:\n",
    "        # Find the closest numerical OSM ID in the dataset\n",
    "        best_match_osm_id = find_closest_osm_id(closest_missing_osm, df)\n",
    "        return (best_match_osm_id, \"Closest Match\", \"Unknown\")\n",
    "\n",
    "    print(\"No matching or close OSM ID found in dataset.\")\n",
    "    return None"
   ]
  },
  {
   "cell_type": "code",
   "execution_count": 72,
   "metadata": {},
   "outputs": [],
   "source": [
    "def calculate_traffic_volume(osm):\n",
    "    df_osm = df[df['osm_id'] == osm]\n",
    "    if df_osm.empty:\n",
    "        print(f\"Error: OSM ID {osm} not found in dataset.\")\n",
    "        return None\n",
    "\n",
    "    # Suppose df is your DataFrame\n",
    "    total_trips_volume = df['trips_volume'].median()\n",
    "    print(\"Total trips volume:\", total_trips_volume)\n",
    "    total_sample_count = df['trips_sample_count'].median()\n",
    "    print(\"Total sample count:\", total_sample_count)\n",
    "    ##scaling_factor = total_trips_volume / max(total_sample_count, 1)\n",
    "    scaling_factor = total_trips_volume / total_sample_count\n",
    "    \n",
    "    scaling_factor *= 50  # Adjust based on expected range\n",
    "    print(\"Scaling factor:\", scaling_factor)\n",
    "    trips_volume = df_osm['trips_volume'].median()\n",
    "    trips_sample_count = df_osm['trips_sample_count'].median()\n",
    "\n",
    "    traffic_volume = (trips_volume / trips_sample_count) * scaling_factor\n",
    "\n",
    "    return traffic_volume.item()"
   ]
  },
  {
   "cell_type": "code",
   "execution_count": 65,
   "metadata": {},
   "outputs": [],
   "source": [
    "# Step 4: Calculate bearing between two points\n",
    "def calculate_bearing(lat1, lon1, lat2, lon2):\n",
    "   lat1, lon1, lat2, lon2 = map(radians, [lat1, lon1, lat2, lon2])\n",
    "  \n",
    "   delta_lon = lon2 - lon1\n",
    "   x = sin(delta_lon) * cos(lat2)\n",
    "   y = cos(lat1) * sin(lat2) - sin(lat1) * cos(lat2) * cos(delta_lon)\n",
    "  \n",
    "   bearing = atan2(x, y)\n",
    "  \n",
    "   # Convert bearing from radians to degrees\n",
    "   bearing = degrees(bearing)\n",
    "  \n",
    "   # Normalize bearing to be between 0 and 360\n",
    "   bearing = (bearing + 360) % 360\n",
    "   return bearing"
   ]
  },
  {
   "cell_type": "code",
   "execution_count": null,
   "metadata": {},
   "outputs": [],
   "source": [
    "# Step 5: Get Google Street View Image\n",
    "def get_street_view_image(lat, lng, bearing, api_key, rotate):\n",
    "   heading = (bearing + 180) % 360 if rotate else bearing % 360\n",
    "   # Google Street View Static API URL\n",
    "   street_view_url = f\"https://maps.googleapis.com/maps/api/streetview?size=600x300&location={lat},{lng}&heading={heading}&key={api_key}\"\n",
    "  \n",
    "   # Send the request and get the image\n",
    "   response = requests.get(street_view_url)\n",
    "  \n",
    "   if response.status_code == 200:\n",
    "       # Open and save the image\n",
    "       image = Image.open(BytesIO(response.content))\n",
    "       image.save(\"street_view_image.jpg\")\n",
    "       print(\"Street view image saved as street_view_image.jpg\")\n",
    "       return \"street_view_image.jpg\"\n",
    "   else:\n",
    "       print(\"Error retrieving street view image:\", response.status_code)\n",
    "       return None"
   ]
  },
  {
   "cell_type": "code",
   "execution_count": 67,
   "metadata": {},
   "outputs": [],
   "source": [
    "def analyze_image_with_vision(image_path):\n",
    "    # Initialize the Vision client\n",
    "    client = vision.ImageAnnotatorClient()\n",
    "\n",
    "    # Load the image\n",
    "    with open(image_path, \"rb\") as image_file:\n",
    "        content = image_file.read()\n",
    "\n",
    "    image = vision.Image(content=content)  # No 'types' module needed here\n",
    "\n",
    "    # Call the Vision API to perform object localization\n",
    "    response = client.object_localization(image=image)\n",
    "\n",
    "    # Check for errors\n",
    "    if response.error.message:\n",
    "        raise Exception(f\"Error: {response.error.message}\")\n",
    "\n",
    "    # Initialize variables to track total area and blocked area\n",
    "    total_area = 0\n",
    "    blocked_area = 0\n",
    "\n",
    "    # Image dimensions (width and height) - use the image size for a more accurate area calculation\n",
    "    image_width = 1  # These values should be set according to your image's size\n",
    "    image_height = 1\n",
    "\n",
    "    # Iterate through the detected objects\n",
    "    for object_ in response.localized_object_annotations:\n",
    "        # Print the detected objects and their confidence\n",
    "        print(f\"Object: {object_.name}, Confidence: {object_.score}\")\n",
    "\n",
    "        # Define a list of objects that could potentially block the building\n",
    "        if object_.name.lower() in [\"car\", \"person\", \"tree\", \"sign\", \"bush\"]:  # List of blocking objects\n",
    "            # Calculate the area of the object by its bounding box (normalized coordinates)\n",
    "            object_area = (object_.bounding_poly.normalized_vertices[2].x - object_.bounding_poly.normalized_vertices[0].x) * \\\n",
    "                          (object_.bounding_poly.normalized_vertices[2].y - object_.bounding_poly.normalized_vertices[0].y)\n",
    "            blocked_area += object_area\n",
    "            print(f\"Blocked Object: {object_.name}, Area: {object_area}\")\n",
    "\n",
    "        # Increment total area calculation (for simplicity, we count all objects here)\n",
    "        total_area += (object_.bounding_poly.normalized_vertices[2].x - object_.bounding_poly.normalized_vertices[0].x) * \\\n",
    "                      (object_.bounding_poly.normalized_vertices[2].y - object_.bounding_poly.normalized_vertices[0].y)\n",
    "\n",
    "    # Calculate the blocked percentage\n",
    "    if total_area > 0:\n",
    "        block_percentage = (blocked_area / total_area) * 100\n",
    "        print(f\"Total area blocked by objects: {block_percentage:.2f}%\")\n",
    "    else:\n",
    "        block_percentage = 0\n",
    "        print(\"No objects detected in the image.\")\n",
    "    return block_percentage"
   ]
  },
  {
   "cell_type": "code",
   "execution_count": 68,
   "metadata": {},
   "outputs": [],
   "source": [
    "def calculate_visibility_score(distance, angle, obstruction_percent, alpha=0.1):\n",
    "    \n",
    "    # Step 1: Calculate the distance factor using exponential decay\n",
    "    distance_factor = math.exp(-alpha * distance)  # Exponential decay for distance\n",
    "    \n",
    "    # Step 2: Calculate the angle factor using cosine\n",
    "    # Convert angle to radians\n",
    "    angle_radians = math.radians(angle)\n",
    "    angle_factor = math.cos(angle_radians)  # Cosine of the angle\n",
    "    \n",
    "    # Step 3: Calculate the obstruction factor\n",
    "    obstruction_factor = 1 - (obstruction_percent / 100)  # Fraction of visible storefront\n",
    "    \n",
    "    # Step 4: Calculate the total visibility score\n",
    "    visibility_score = distance_factor * angle_factor * obstruction_factor\n",
    "    if visibility_score < 0:\n",
    "        print(f\"Warning: Negative visibility score detected: {visibility_score}\")\n",
    "    \n",
    "    # Ensure the score is between 0 and 1\n",
    "    visibility_score = max(0, min(visibility_score, 1))\n",
    "    return visibility_score"
   ]
  },
  {
   "cell_type": "markdown",
   "metadata": {},
   "source": [
    "# Queries\n",
    "59 Hillside Trace Dallas, Georgia\n",
    "48 5th St NW, Atlanta, GA 30308\n",
    "1715 Charles Hardy Pkwy, Dallas, GA, 30157 (showing no objects detected)\n",
    "1380 Atlantic Dr NW #14275, Atlanta, GA 30363"
   ]
  },
  {
   "cell_type": "code",
   "execution_count": 69,
   "metadata": {},
   "outputs": [],
   "source": [
    "testing = False\n",
    "def main():\n",
    "    \n",
    "    address_string = [\"48 5th St NW, Atlanta, GA 30308\", \"73 Peachtree Pl NW\", \"Georgia Tech, 266 4th St NW, Atlanta, GA 30313\"]\n",
    "    address = address_string[0] if testing else input(\"Enter the address: \")\n",
    "\n",
    "    # Geocode the address\n",
    "    lat, lng = geocode_address(address, api_key)\n",
    "    if lat and lng:\n",
    "        print(f\"Latitude: {lat}, Longitude: {lng}\")\n",
    "\n",
    "        # Find the nearest road\n",
    "        nearest_lat, nearest_lng = find_nearest_road(lat, lng, api_key)\n",
    "        if nearest_lat and nearest_lng:\n",
    "            print(f\"Nearest Road Latitude: {nearest_lat}, Nearest Road Longitude: {nearest_lng}\")\n",
    "\n",
    "            # Calculate the distance between the address and the nearest road\n",
    "            distance = calculate_distance(lat, lng, nearest_lat, nearest_lng)\n",
    "            print(f\"Distance from {address} to nearest road: {distance} km\")\n",
    "\n",
    "            # Calculate the bearing (angle) between the address and the nearest road\n",
    "            bearing = calculate_bearing(lat, lng, nearest_lat, nearest_lng)\n",
    "            print(f\"Angle from {address} to nearest road: {bearing}°\")\n",
    "\n",
    "            osm, _, _ = find_nearest_road_to_osm_in_db(lat, lng, df)\n",
    "            traffic_volume = calculate_traffic_volume(osm)\n",
    "            if traffic_volume is not None:\n",
    "                # print(f\"Traffic volume: {traffic_volume:.2f} vehicles per day\")\n",
    "                # Get the Street View Image for the location\n",
    "                image_path = get_street_view_image(lat, lng, bearing, api_key)\n",
    "                if image_path:\n",
    "                    # Analyze the image using Google Vision API\n",
    "                    obstruct = analyze_image_with_vision(image_path)\n",
    "                    visib = calculate_visibility_score(distance, bearing, obstruct)\n",
    "                    total = traffic_volume * visib\n",
    "                    print(\"Final Score: \", total)\n",
    "                \n",
    "                    # print(\"Final Score:\" + final_score)\n",
    "            else:\n",
    "                print(\"Traffic volume could not be calculated.\")\n",
    "        else:\n",
    "            print(\"Nearest road could not be found.\")\n",
    "    else:\n",
    "        print(\"Geocoding failed.\")"
   ]
  },
  {
   "cell_type": "code",
   "execution_count": 71,
   "metadata": {},
   "outputs": [
    {
     "name": "stdout",
     "output_type": "stream",
     "text": [
      "Latitude: 33.759365, Longitude: -84.3758872\n",
      "Nearest Road Latitude: 33.759367626391594, Nearest Road Longitude: -84.37554867795723\n",
      "Distance from 180 Jackson St Northeast, Atlanta Georgia to nearest road: 0.03129606757702596 km\n",
      "Angle from 180 Jackson St Northeast, Atlanta Georgia to nearest road: 89.46523864816237°\n",
      "Total trips volume: 2100.0\n",
      "Total sample count: 13567.0\n",
      "Scaling factor: 7.739367583106066\n",
      "Street view image saved as street_view_image.jpg\n",
      "Object: Building, Confidence: 0.5031560063362122\n",
      "Total area blocked by objects: 0.00%\n",
      "Final Score:  0.006763810062343905\n"
     ]
    }
   ],
   "source": [
    "main()"
   ]
  }
 ],
 "metadata": {
  "kernelspec": {
   "display_name": "Python 3",
   "language": "python",
   "name": "python3"
  },
  "language_info": {
   "codemirror_mode": {
    "name": "ipython",
    "version": 3
   },
   "file_extension": ".py",
   "mimetype": "text/x-python",
   "name": "python",
   "nbconvert_exporter": "python",
   "pygments_lexer": "ipython3",
   "version": "3.8.20"
  }
 },
 "nbformat": 4,
 "nbformat_minor": 2
}
