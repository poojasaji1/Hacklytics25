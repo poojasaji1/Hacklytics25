{
 "cells": [
  {
   "cell_type": "code",
   "execution_count": 85,
   "metadata": {},
   "outputs": [],
   "source": [
    "import time\n",
    "def measure_time(func):\n",
    "    def wrapper(*args, **kwargs):\n",
    "        start_time = time.time()\n",
    "        result = func(*args, **kwargs)\n",
    "        end_time = time.time()\n",
    "        elapsed_time = end_time - start_time\n",
    "        print(f\"Time taken to execute {func.__name__}: {elapsed_time:.4f} seconds\")\n",
    "        return result\n",
    "    return wrapper"
   ]
  },
  {
   "cell_type": "code",
   "execution_count": 86,
   "metadata": {
    "vscode": {
     "languageId": "powershell"
    }
   },
   "outputs": [
    {
     "name": "stdout",
     "output_type": "stream",
     "text": [
      "Requirement already satisfied: pandas in ./.conda/lib/python3.8/site-packages (2.0.3)\n",
      "Requirement already satisfied: python-dateutil>=2.8.2 in ./.conda/lib/python3.8/site-packages (from pandas) (2.9.0)\n",
      "Requirement already satisfied: pytz>=2020.1 in ./.conda/lib/python3.8/site-packages (from pandas) (2025.1)\n",
      "Requirement already satisfied: tzdata>=2022.1 in ./.conda/lib/python3.8/site-packages (from pandas) (2025.1)\n",
      "Requirement already satisfied: numpy>=1.20.3 in ./.conda/lib/python3.8/site-packages (from pandas) (1.24.4)\n",
      "Requirement already satisfied: six>=1.5 in ./.conda/lib/python3.8/site-packages (from python-dateutil>=2.8.2->pandas) (1.16.0)\n",
      "Requirement already satisfied: pyarrow in ./.conda/lib/python3.8/site-packages (17.0.0)\n",
      "Requirement already satisfied: numpy>=1.16.6 in ./.conda/lib/python3.8/site-packages (from pyarrow) (1.24.4)\n"
     ]
    },
    {
     "ename": "NameError",
     "evalue": "name 'pyarrow' is not defined",
     "output_type": "error",
     "traceback": [
      "\u001b[0;31m---------------------------------------------------------------------------\u001b[0m",
      "\u001b[0;31mNameError\u001b[0m                                 Traceback (most recent call last)",
      "Cell \u001b[0;32mIn[86], line 3\u001b[0m\n\u001b[1;32m      1\u001b[0m get_ipython()\u001b[38;5;241m.\u001b[39msystem(\u001b[38;5;124m'\u001b[39m\u001b[38;5;124mpip install pandas\u001b[39m\u001b[38;5;124m'\u001b[39m)\n\u001b[1;32m      2\u001b[0m get_ipython()\u001b[38;5;241m.\u001b[39msystem(\u001b[38;5;124m'\u001b[39m\u001b[38;5;124mpip install pyarrow\u001b[39m\u001b[38;5;124m'\u001b[39m)\n\u001b[0;32m----> 3\u001b[0m \u001b[43mpyarrow\u001b[49m \u001b[38;5;241m-\u001b[39m\u001b[38;5;241m-\u001b[39mversion\n",
      "\u001b[0;31mNameError\u001b[0m: name 'pyarrow' is not defined"
     ]
    }
   ],
   "source": [
    "!pip install pandas\n",
    "!pip install pyarrow\n",
    "pyarrow --version"
   ]
  },
  {
   "cell_type": "code",
   "execution_count": null,
   "metadata": {},
   "outputs": [
    {
     "name": "stdout",
     "output_type": "stream",
     "text": [
      "PyArrow version: 17.0.0\n",
      "Index(['id', 'mode', 'country_code', 'state_code', 'county_fips',\n",
      "       'segment_name', 'osm_id', 'highway', 'segment_length_m', 'segment_id',\n",
      "       'year', 'month', 'match_dir', 'day_type', 'day_part', 'trips_volume',\n",
      "       'trips_sample_count', 'vmt', 'geom', 'created_at', 'updated_at',\n",
      "       'trips_volume_masked', 'trips_sample_count_masked'],\n",
      "      dtype='object')\n",
      "Unique values in 'highway' column before filtering:\n",
      "['primary' 'secondary' 'motorway' 'tertiary' 'unclassified' 'trunk'\n",
      " 'motorway_link' 'trunk_link' 'primary_link' 'tertiary_link'\n",
      " 'secondary_link' 'living_street' 'track' 'cycleway' 'footway' 'bridleway'\n",
      " 'path' 'pedestrian']\n",
      "[2023]\n",
      "[3]\n",
      "state_code\n",
      "GA    675498\n",
      "Name: count, dtype: int64\n",
      "Unique values in 'highway' column after filtering:\n",
      "['primary' 'secondary' 'motorway' 'tertiary' 'unclassified' 'trunk'\n",
      " 'motorway_link' 'trunk_link' 'primary_link' 'tertiary_link'\n",
      " 'secondary_link' 'living_street' 'track' 'cycleway' 'footway']\n",
      "Index(['id', 'osm_id', 'highway', 'segment_length_m', 'trips_volume',\n",
      "       'trips_sample_count'],\n",
      "      dtype='object')\n",
      "Time taken to execute groupby_count: 0.0275 seconds\n"
     ]
    },
    {
     "name": "stderr",
     "output_type": "stream",
     "text": [
      "/var/folders/kq/cs03j9553ng9l_hc6_yh2qyw0000gn/T/ipykernel_91647/4164563080.py:29: SettingWithCopyWarning: \n",
      "A value is trying to be set on a copy of a slice from a DataFrame\n",
      "\n",
      "See the caveats in the documentation: https://pandas.pydata.org/pandas-docs/stable/user_guide/indexing.html#returning-a-view-versus-a-copy\n",
      "  df_filtered.drop(columns=columns_to_drop, inplace=True)\n"
     ]
    },
    {
     "data": {
      "text/plain": [
       "highway\n",
       "cycleway               6\n",
       "footway               17\n",
       "living_street        216\n",
       "motorway            6341\n",
       "motorway_link       7385\n",
       "primary            87452\n",
       "primary_link        3370\n",
       "secondary         150389\n",
       "secondary_link      2045\n",
       "tertiary          214973\n",
       "tertiary_link        993\n",
       "track                 26\n",
       "trunk              46547\n",
       "trunk_link          4586\n",
       "unclassified       65439\n",
       "dtype: int64"
      ]
     },
     "execution_count": 80,
     "metadata": {},
     "output_type": "execute_result"
    }
   ],
   "source": [
    "import pyarrow.parquet as pq\n",
    "import pyarrow as pa\n",
    "\n",
    "print(\"PyArrow version:\", pa.__version__)\n",
    "\n",
    "file_path = \"traffic_data/traffic_data_sample.parquet\"\n",
    "output_file_path = \"cleaned_data/traffic_data_sample_filtered.parquet\"\n",
    "output_csv_file_path = \"cleaned_data/traffic_data_sample_filtered.csv\"\n",
    "\n",
    "\n",
    "table = pq.read_table(file_path)\n",
    "df = table.to_pandas()\n",
    "\n",
    "# Drop the columns 'day_type' and 'day_part'\n",
    "\n",
    "print(df.columns)\n",
    "df['highway'] = df['highway'].str.lower()\n",
    "\n",
    "print(\"Unique values in 'highway' column before filtering:\")\n",
    "print(df['highway'].unique())\n",
    "print(df['year'].unique())\n",
    "print(df['month'].unique())\n",
    "\n",
    "# remove states other than GA\n",
    "df_filtered = df[df['state_code'] == 'GA']\n",
    "print(df_filtered['state_code'].value_counts())\n",
    "\n",
    "columns_to_drop = [\"created_at\",\"updated_at\", \"trips_volume_masked\",\"trips_sample_count_masked\", \"segment_name\", \"geom\",\"match_dir\", \"county_fips\", 'day_type', 'day_part', 'mode', \"segment_id\", \"state_code\", \"country_code\", \"vmt\", \"year\", \"month\"]\n",
    "df_filtered.drop(columns=columns_to_drop, inplace=True)\n",
    "df_filtered = df_filtered[~df_filtered.drop(columns=['id']).duplicated()]\n",
    "\n",
    "# Print unique values in the 'highway' column after filtering\n",
    "print(\"Unique values in 'highway' column after filtering:\")\n",
    "print(df_filtered['highway'].unique())\n",
    "print(df_filtered.columns)\n",
    "\n",
    "\n",
    "@measure_time\n",
    "def groupby_count():\n",
    "    return df_filtered.groupby('highway').size()\n",
    "\n",
    "groupby_count()"
   ]
  },
  {
   "cell_type": "code",
   "execution_count": null,
   "metadata": {},
   "outputs": [],
   "source": [
    "df = df_filtered\n",
    "df.to_parquet(output_file_path, index=False)\n",
    "df.to_csv(output_csv_file_path, index=False)"
   ]
  },
  {
   "cell_type": "code",
   "execution_count": null,
   "metadata": {},
   "outputs": [
    {
     "name": "stdout",
     "output_type": "stream",
     "text": [
      "osm_id column data type: int64\n",
      "Row found:\n",
      "             id      osm_id   highway  segment_length_m  trips_volume  \\\n",
      "182497  2952579  1136684141  motorway           656.998         72963   \n",
      "\n",
      "        trips_sample_count  \n",
      "182497              741221  \n"
     ]
    }
   ],
   "source": [
    "# Ensure the specific_osm_id is of the same type as the osm_id column\n",
    "specific_osm_id = 1136684141  # Replace with the osm_id you are looking for\n",
    "\n",
    "# Print the first few rows of the DataFrame to check the structure\n",
    "# print(\"DataFrame structure:\")\n",
    "# print(df.head())\n",
    "\n",
    "# Check the data type of the osm_id column\n",
    "print(f\"osm_id column data type: {df['osm_id'].dtype}\")\n",
    "\n",
    "# If the osm_id column is of type str, convert specific_osm_id to str\n",
    "if df['osm_id'].dtype == 'object':\n",
    "    specific_osm_id = str(specific_osm_id)\n",
    "\n",
    "# Check if the specific_osm_id exists in the osm_id column\n",
    "if specific_osm_id in df['osm_id'].values:\n",
    "    row = df[df['osm_id'] == specific_osm_id]\n",
    "    print(\"Row found:\")\n",
    "    print(row)\n",
    "else:\n",
    "    print(f\"osm_id {specific_osm_id} not found in the DataFrame\")"
   ]
  },
  {
   "cell_type": "code",
   "execution_count": null,
   "metadata": {},
   "outputs": [
    {
     "name": "stdout",
     "output_type": "stream",
     "text": [
      "OSM IDs to look up: [1075671961    9001576   56444638    9172029    9172224  324271283\n",
      "  805252387   83442395 1053530914    9384326]\n",
      "No results returned\n"
     ]
    }
   ],
   "source": [
    "import requests\n",
    "\n",
    "def get_address_from_osm_id(osm_ids):\n",
    "    base_url = \"https://nominatim.openstreetmap.org/lookup\"\n",
    "    params = {\n",
    "        \"osm_ids\": \",\".join(map(str, osm_ids)),  # List of OSM IDs formatted correctly\n",
    "        \"format\": \"json\",  # Request JSON response\n",
    "    }\n",
    "    headers = {\n",
    "        \"User-Agent\": \"YourApp/1.0 (aaryaman04@gmail.com)\"  # Required to avoid being blocked\n",
    "    }\n",
    "\n",
    "    response = requests.get(base_url, params=params, headers=headers)\n",
    "\n",
    "    if response.status_code == 200:\n",
    "        return response.json()\n",
    "    else:\n",
    "        print(f\"Error {response.status_code}: {response.text}\")\n",
    "        return None\n",
    "\n",
    "# Example usage\n",
    "# List of OSM IDs to look up from the DataFrame\n",
    "osm_ids = df['osm_id'].unique()[:10]\n",
    "print(f\"OSM IDs to look up: {osm_ids}\")\n",
    "\n",
    "result = get_address_from_osm_id(osm_ids)\n",
    "\n",
    "if result:\n",
    "    for place in result:\n",
    "        print(f\"OSM ID: {place['osm_id']}, Address: {place.get('display_name', 'No address found')}\")\n",
    "else:\n",
    "    print(\"No results returned\")\n"
   ]
  },
  {
   "cell_type": "code",
   "execution_count": null,
   "metadata": {},
   "outputs": [
    {
     "name": "stdout",
     "output_type": "stream",
     "text": [
      "Request URL: https://nominatim.openstreetmap.org/reverse?osm_type=W&osm_id=123456789&format=json\n",
      "Error: Received status code 400\n",
      "Response content: {\"error\":{\"code\":400,\"message\":\"Parameter 'lon' missing.\"}}\n",
      "Address: None\n"
     ]
    }
   ],
   "source": [
    "# from geopy.geocoders import Nominatim\n",
    "# import requests\n",
    "\n",
    "# def get_address_from_osm_id(osm_id):\n",
    "#     \"\"\"\n",
    "#     Get the address of a road segment given its OSM ID.\n",
    "#     \"\"\"\n",
    "#     nominatim_url = f\"https://nominatim.openstreetmap.org/reverse?osm_type=W&osm_id={osm_id}&format=json\"\n",
    "    \n",
    "#     print(f\"Request URL: {nominatim_url}\")  # Debugging: Print the request URL\n",
    "    \n",
    "#     response = requests.get(nominatim_url, headers={\"User-Agent\": \"OSM-Traffic-Analysis\"})\n",
    "    \n",
    "#     if response.status_code == 200:\n",
    "#         data = response.json()\n",
    "#         return data.get(\"display_name\", \"Address not found\")\n",
    "#     else:\n",
    "#         print(f\"Error: Received status code {response.status_code}\")\n",
    "#         print(f\"Response content: {response.text}\")  # Debugging: Print the response content\n",
    "#         return None\n",
    "\n",
    "# # Example usage\n",
    "# osm_id = 123456789  # Replace with actual OSM ID\n",
    "# address = get_address_from_osm_id(osm_id)\n",
    "# print(\"Address:\", address)"
   ]
  }
 ],
 "metadata": {
  "kernelspec": {
   "display_name": "Python 3",
   "language": "python",
   "name": "python3"
  },
  "language_info": {
   "codemirror_mode": {
    "name": "ipython",
    "version": 3
   },
   "file_extension": ".py",
   "mimetype": "text/x-python",
   "name": "python",
   "nbconvert_exporter": "python",
   "pygments_lexer": "ipython3",
   "version": "3.8.20"
  }
 },
 "nbformat": 4,
 "nbformat_minor": 2
}
